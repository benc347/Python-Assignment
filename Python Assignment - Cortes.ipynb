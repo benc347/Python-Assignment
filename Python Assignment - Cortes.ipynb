{
 "cells": [
  {
   "cell_type": "code",
   "execution_count": 1,
   "metadata": {},
   "outputs": [],
   "source": [
    "# Install necessary packages\n",
    "\n",
    "from Bio import SeqIO\n",
    "from Bio.Data import CodonTable\n",
    "import pandas as pd\n",
    "\n",
    "# as a general note, I have a couple of lines commented-out at the end of each section that I used to test my code"
   ]
  },
  {
   "cell_type": "code",
   "execution_count": 2,
   "metadata": {},
   "outputs": [],
   "source": [
    "# 1.\n",
    "# Dr. X's file calling function\n",
    "# I changed the name of the function from \"get_sequences_from_file' to \"get_seq\" because the original name was long\n",
    "# I also changed the name of the dictionary from \"sequence_data_dict\" to \"seqdat_dict\"\n",
    "\n",
    "def get_seq(fasta_fn):                                         # def defines the following as a function. Function given name. fasta_fn is the single argument of the function\n",
    "    seqdat_dict = {}                                           # creates an empty dictionary\n",
    "    for record in SeqIO.parse(fasta_fn, \"fasta\"):              # SeqIO reads SeqRecords. \"fasta\" tells it that the file in question is in FASTA format\n",
    "                                                                   # SeqIO.parse separates the multiple FASTA records in one file\n",
    "                                                                   # for loop loops through every record from the FASTA argument file parsed out and separated by SeqIO\n",
    "        description = record.description.split()               # split the description metadata line that starts the FASTA record into a list of strings\n",
    "        species_name = description[1] + \" \" + description[2]   # variable \"species_name\" is set to the 1st and 2nd items in \"description\" for the current record\n",
    "        seqdat_dict[species_name] = record.seq                 # add the species name as the key and add the sequence of the current record to the dictionary\n",
    "    return(seqdat_dict)                                        # output the contents of the dictionary\n",
    " \n",
    "#print(get_seq(\"bears_cytb.fasta\"))                             # call get_seq function with the bear cytochrome C fasta file as argument, importing sequence data"
   ]
  },
  {
   "cell_type": "code",
   "execution_count": 3,
   "metadata": {
    "scrolled": true
   },
   "outputs": [],
   "source": [
    "# 2. \n",
    "# Translation function utilizing codon table from FASTA file with multiple records\n",
    "# Following outlines of pseudocode in sequence_translate.py\n",
    "\n",
    "def translate_function(string_nucleotides):                                         # initiate and name function. Argument is a string of nucleotides                 \n",
    "    mito_table = CodonTable.unambiguous_dna_by_name[\"Vertebrate Mitochondrial\"]     # sets mito_table as the vertebrate mitochondrial codon table (a table showing which codons code for which amino acids)\n",
    "                                                                                         # mitochondrial table used since cytochrome C is a mitochondrially produced protein - http://biopython.org/DIST/docs/tutorial/Tutorial.html\n",
    "    aa_seq_string = []                                                              # create empty list   \n",
    "    i = 3                                                                           # initialize i at 3\n",
    "    for position in string_nucleotides:                                             # for loop through all bases in the sequence\n",
    "        codon = str(string_nucleotides[(i-3):i:])                                   # set codon as the three bases. Specifically, the three bases between i and (i-3) are passed to codon\n",
    "        if codon in {\"AGA\", \"AGG\", \"TAA\", \"TAG\"}:                                   # if codon is a mitochondrial stop codon - http://biopython.org/DIST/docs/tutorial/Tutorial.html, https://stackoverflow.com/questions/15112125/how-to-test-multiple-variables-against-a-value\n",
    "            break                                                                        # break, leave for loop and don't translate stop codon - https://www.digitalocean.com/community/tutorials/how-to-use-break-continue-and-pass-statements-when-working-with-loops-in-python-3\n",
    "        aa_seq_string += mito_table.forward_table[codon]                            # retrieve amino acid corresponding to the three bases in codon\n",
    "        i += 3                                                                      # increment i by 3, moving to next codon in sequence\n",
    "    aa_seq_string = ''.join(aa_seq_string)                                          # concatenate list of strings into string - https://stackoverflow.com/questions/12453580/concatenate-item-in-list-to-strings\n",
    "    return(aa_seq_string)\n",
    "\n",
    "#for key, value in (get_seq(\"bears_cytb.fasta\")).items():                            # call get_seq to create dictionary with species name (key) and cytC sequence (value)\n",
    "#    print(translate_function(value))                                                # call translate_function with the cytC sequence (value) as the argument and print"
   ]
  },
  {
   "cell_type": "code",
   "execution_count": 4,
   "metadata": {},
   "outputs": [],
   "source": [
    "# 3.\n",
    "# Translate using built-in Biopython capabilities - based on Dr. Friedburg's lecture \"biopython_lecture-2018-11-07.pdf\" on Slack\n",
    "\n",
    "from Bio.Seq import Seq                                                             # import Seq object\n",
    "from Bio.Alphabet import IUPAC                                                      # import IUPAC alphabets for Seq objects\n",
    "\n",
    "def better_translate(seqobj_DNA):                                                   # define function - argument is a DNA string\n",
    "    return(seqobj_DNA.translate(table = 2, to_stop = True))                         # use translate method to translate argument. Table 2 is the mitochondrial translation table. \n",
    "                                                                                        # setting \"to_stop\" equal to \"True\" causes stop codons to be ignored\n",
    "#for key, value in (get_seq(\"bears_cytb.fasta\")).items():                            # call get_seq to create dictionary with species name (key) and cytC sequence (value)\n",
    "#    print(better_translate(value))                                                  # call function with value (sequence) as argument"
   ]
  },
  {
   "cell_type": "code",
   "execution_count": 5,
   "metadata": {},
   "outputs": [],
   "source": [
    "# 4.\n",
    "# Molecular Weight function\n",
    "# Following guidelines in sequence_translate.py\n",
    "\n",
    "from Bio.SeqUtils.ProtParam import ProteinAnalysis                  # import necessary library\n",
    "\n",
    "def mol_wt(string_aa):                                              # define function. Argument is an aa string\n",
    "    seqobj_prot = ProteinAnalysis(string_aa)                        # ProteinAnalysis transforms the aa string into a protein Seq object - https://biopython.org/wiki/ProtParam\n",
    "    return(seqobj_prot.molecular_weight())                          # the molecular_weight method calculates the molecular weight of the input protein Seq object\n",
    "\n",
    "#for key, value in (get_seq(\"bears_cytb.fasta\")).items():            # call get_seq to create dictionary with species name (key) and cytC sequence (value)\n",
    "#    cytc_aa = str(better_translate(value))                          # turn output of get_seq into a string\n",
    "#    print(mol_wt(cytc_aa))                                          # call function with value (sequence) as argument"
   ]
  },
  {
   "cell_type": "code",
   "execution_count": 6,
   "metadata": {},
   "outputs": [],
   "source": [
    "# 5.\n",
    "# GC content function\n",
    "# Didn't say if we were allowed to use Biopython, so I wrote my own (see section 11 for Biopython GC content function)\n",
    "\n",
    "def GC_cont(string_nucleotides):                                     # define function. Argument is a string of nucleotides\n",
    "    GC_count = 0                                                     # set GC count to 0\n",
    "    for base in string_nucleotides:                                  # iterate through each base in the string of nucleotides\n",
    "        if base in {\"G\", \"C\"}:                                       # if base is a G or a C\n",
    "            GC_count += 1                                                # then increase the count by 1\n",
    "    content = (GC_count/(len(string_nucleotides)))                   # GC content percentage is equal to the GC_count divided by the total length of the nucleotide sequence\n",
    "    return(content)\n",
    "\n",
    "#for key, value in (get_seq(\"bears_cytb.fasta\")).items():            # call get_seq to create dictionary with species name (key) and cytC sequence (value)\n",
    "#    print(GC_cont(value))                                           # call function with value (sequence) as argument"
   ]
  },
  {
   "cell_type": "code",
   "execution_count": 7,
   "metadata": {},
   "outputs": [],
   "source": [
    "# 6. \n",
    "# Add new columns to dataframe\n",
    "\n",
    "bears_mass = pd.read_csv(\"bears_mass.csv\")                                     # import bears_mass.csv as dataframe\n",
    "bears_copy = bears_mass.copy()                                                 # make copy of dataframe to keep original dataframe pristine\n",
    "bears_copy = bears_copy.assign(molecular_weight = 'NaN', GC_content = 'NaN')   # add new columns using assign and populate them with 'NaN' - https://stackoverflow.com/questions/12555323/adding-new-column-to-existing-dataframe-in-python-pandas      \n",
    "#bears_copy"
   ]
  },
  {
   "cell_type": "code",
   "execution_count": 8,
   "metadata": {},
   "outputs": [
    {
     "data": {
      "text/html": [
       "<div>\n",
       "<style scoped>\n",
       "    .dataframe tbody tr th:only-of-type {\n",
       "        vertical-align: middle;\n",
       "    }\n",
       "\n",
       "    .dataframe tbody tr th {\n",
       "        vertical-align: top;\n",
       "    }\n",
       "\n",
       "    .dataframe thead th {\n",
       "        text-align: right;\n",
       "    }\n",
       "</style>\n",
       "<table border=\"1\" class=\"dataframe\">\n",
       "  <thead>\n",
       "    <tr style=\"text-align: right;\">\n",
       "      <th></th>\n",
       "      <th>species</th>\n",
       "      <th>mass</th>\n",
       "      <th>molecular_weight</th>\n",
       "      <th>GC_content</th>\n",
       "    </tr>\n",
       "  </thead>\n",
       "  <tbody>\n",
       "    <tr>\n",
       "      <th>0</th>\n",
       "      <td>Ursus spelaeus</td>\n",
       "      <td>550.800</td>\n",
       "      <td>42458.8</td>\n",
       "      <td>0.437719</td>\n",
       "    </tr>\n",
       "    <tr>\n",
       "      <th>1</th>\n",
       "      <td>Ursus arctos</td>\n",
       "      <td>203.500</td>\n",
       "      <td>42414.7</td>\n",
       "      <td>0.437719</td>\n",
       "    </tr>\n",
       "    <tr>\n",
       "      <th>2</th>\n",
       "      <td>Ursus thibetanus</td>\n",
       "      <td>99.714</td>\n",
       "      <td>42306.7</td>\n",
       "      <td>0.45614</td>\n",
       "    </tr>\n",
       "    <tr>\n",
       "      <th>3</th>\n",
       "      <td>Melursus ursinus</td>\n",
       "      <td>100.030</td>\n",
       "      <td>42552</td>\n",
       "      <td>0.451754</td>\n",
       "    </tr>\n",
       "    <tr>\n",
       "      <th>4</th>\n",
       "      <td>Ursus americanus</td>\n",
       "      <td>110.560</td>\n",
       "      <td>42427.7</td>\n",
       "      <td>0.439474</td>\n",
       "    </tr>\n",
       "    <tr>\n",
       "      <th>5</th>\n",
       "      <td>Helarctos malayanus</td>\n",
       "      <td>47.020</td>\n",
       "      <td>42560.9</td>\n",
       "      <td>0.442982</td>\n",
       "    </tr>\n",
       "    <tr>\n",
       "      <th>6</th>\n",
       "      <td>Ailuropoda melanoleuca</td>\n",
       "      <td>118.200</td>\n",
       "      <td>42702.2</td>\n",
       "      <td>0.407895</td>\n",
       "    </tr>\n",
       "    <tr>\n",
       "      <th>7</th>\n",
       "      <td>Tremarctos ornatus</td>\n",
       "      <td>140.700</td>\n",
       "      <td>42384.8</td>\n",
       "      <td>0.44386</td>\n",
       "    </tr>\n",
       "    <tr>\n",
       "      <th>8</th>\n",
       "      <td>Ursus maritimus</td>\n",
       "      <td>425.100</td>\n",
       "      <td>42454.8</td>\n",
       "      <td>0.442982</td>\n",
       "    </tr>\n",
       "  </tbody>\n",
       "</table>\n",
       "</div>"
      ],
      "text/plain": [
       "                  species     mass molecular_weight GC_content\n",
       "0          Ursus spelaeus  550.800          42458.8   0.437719\n",
       "1            Ursus arctos  203.500          42414.7   0.437719\n",
       "2        Ursus thibetanus   99.714          42306.7    0.45614\n",
       "3        Melursus ursinus  100.030            42552   0.451754\n",
       "4        Ursus americanus  110.560          42427.7   0.439474\n",
       "5     Helarctos malayanus   47.020          42560.9   0.442982\n",
       "6  Ailuropoda melanoleuca  118.200          42702.2   0.407895\n",
       "7      Tremarctos ornatus  140.700          42384.8    0.44386\n",
       "8         Ursus maritimus  425.100          42454.8   0.442982"
      ]
     },
     "execution_count": 8,
     "metadata": {},
     "output_type": "execute_result"
    }
   ],
   "source": [
    "# 7.\n",
    "# Populate new columns with data using a combination of the functions made above - https://pandas.pydata.org/pandas-docs/stable/generated/pandas.DataFrame.loc.html\n",
    "\n",
    "i = 0                                                               # set loop control variable to 0\n",
    "j = 0                                                               # set loop control variable to 0\n",
    "\n",
    "for key, value in (get_seq(\"bears_cytb.fasta\")).items():            # call get_seq to create dictionary with species name (key) and cytC sequence (value)\n",
    "    cytc_aa = str(better_translate(value))                          # turn output of get_seq into a string\n",
    "    weight = (mol_wt(cytc_aa))                                      # call mol_wt to find the molecular weight of the translated cytV sequence\n",
    "    GC = (GC_cont(value))                                           # call GC_cont to find the GC content of the translated cytC sequence\n",
    "    \n",
    "    for index, row in bears_copy.iterrows():                        # iterate through bears_copy dataframe\n",
    "        bears_copy.loc[i, 'molecular_weight'] = weight              # replace the ith row of molecular_weight column with molecular weight of the current value (cytC sequence)\n",
    "    i += 1                                                          # iterate i by 1\n",
    "    \n",
    "    for index, row in bears_copy.iterrows():                        # iterate through bears_copy dataframe\n",
    "        bears_copy.loc[j, 'GC_content'] = GC                        # replace the jth row of GC_content column with GC content of the current value (cytC sequence)\n",
    "    j += 1                                                          # iterate j by 1\n",
    "        \n",
    "bears_copy\n",
    "    "
   ]
  },
  {
   "cell_type": "code",
   "execution_count": 9,
   "metadata": {},
   "outputs": [
    {
     "data": {
      "image/png": "[encoded data removed]",
      "text/plain": [
       "<Figure size 432x288 with 1 Axes>"
      ]
     },
     "metadata": {
      "needs_background": "light"
     },
     "output_type": "display_data"
    },
    {
     "data": {
      "image/png": "[encoded data removed]",
      "text/plain": [
       "<Figure size 432x288 with 1 Axes>"
      ]
     },
     "metadata": {
      "needs_background": "light"
     },
     "output_type": "display_data"
    }
   ],
   "source": [
    "# 8. \n",
    "# Plot bar chart of the mass by species\n",
    "\n",
    "%matplotlib inline\n",
    "\n",
    "mass = bears_copy.groupby('species')['mass'].mean()                           # use groupby to extract data for graphing. Species will be on the x axis with the mean of the mass values on the y\n",
    "mass.plot(kind = 'bar', title = 'Mass by Species', color = 'LightSkyBlue')    # plot. \"kind = 'bar'\" creates a bar graph, \"title\" sets the title, and \"color\" sets the color\n",
    "\n",
    "# for whatever reason, \".(mean)\" is absolutely necessary for the code to create the desired graph.\n",
    "    # \"no.mean = bears_copy.groupby('species')['mass']\" when plotted, yields one large bar with a y value seemingly equal to the mass of U. spelaeus\n",
    "# additionally, the above plotting method seemingly randomizes the order of the species along the x axis\n",
    "    # the below code will keep the order of the species, but replace the species names with the index number - https://stackoverflow.com/questions/29498652/plot-bar-graph-from-pandas-dataframe\n",
    "\n",
    "test = bears_copy[['species', 'mass']].plot(kind='bar',title='Mass by Species',color='LightSkyBlue')\n",
    "\n",
    "# Q1. - Ursus spelaeus, the cave bear, is the largest species of bear in terms of mass.\n",
    "# Q2. - Ursus spelaeus went extinct roughly 24,000 years ago, possibly due to competition with humans for resources and shelter \n",
    "    # https://en.wikipedia.org/wiki/Cave_bear\n"
   ]
  },
  {
   "cell_type": "code",
   "execution_count": 10,
   "metadata": {},
   "outputs": [
    {
     "data": {
      "text/plain": [
       "<seaborn.axisgrid.FacetGrid at 0x1b735078ba8>"
      ]
     },
     "execution_count": 10,
     "metadata": {},
     "output_type": "execute_result"
    },
    {
     "data": {
      "image/png": "[encoded data removed]",
      "text/plain": [
       "<Figure size 360x360 with 1 Axes>"
      ]
     },
     "metadata": {
      "needs_background": "light"
     },
     "output_type": "display_data"
    }
   ],
   "source": [
    "# 9.\n",
    "# Plot the relationship between GC content and molecular weight for the sequences\n",
    "\n",
    "import matplotlib.pyplot as plt                                                    # import matplotlib\n",
    "import seaborn as sns                                                              # import seaborn\n",
    "\n",
    "sns.lmplot(\"GC_content\", \"molecular_weight\", data = bears_copy, fit_reg = False)   # scatterplot with GC content on x axis and molecular weight on y, no regression line"
   ]
  },
  {
   "cell_type": "code",
   "execution_count": 11,
   "metadata": {},
   "outputs": [],
   "source": [
    "# 10.\n",
    "# Save dataframe as a .csv - https://pandas.pydata.org/pandas-docs/stable/generated/pandas.DataFrame.to_csv.html\n",
    "\n",
    "bears_copy.to_csv(path_or_buf = \"bears_mass_cytb.csv\")         # .to_csv sends dataframe to csv. csv made is designated in path_or_buf = \"\""
   ]
  },
  {
   "cell_type": "code",
   "execution_count": 12,
   "metadata": {},
   "outputs": [
    {
     "name": "stdout",
     "output_type": "stream",
     "text": [
      "43.771929824561404\n",
      "43.771929824561404\n",
      "45.6140350877193\n",
      "45.175438596491226\n",
      "43.94736842105263\n",
      "44.29824561403509\n",
      "40.78947368421053\n",
      "44.3859649122807\n",
      "44.29824561403509\n",
      "TCTTCACTTTAAGAGGTTGTTTTCAATAATTCCAGCGATGGGTATGAGTACTAGGGGGATTGTAAAGTAGAGAATGGAGGCTAGCTGTCCGATAATAATGAAGGGGTGTTCTACTGGTTGTCCTCCAATTCATGTTAGTGTTAGTAGGTCTGCTACTAGGAGTCAGAATAGGCATTGGCTTAGAGGCCGGAATATCATTCCTCGTTGTTTGGATGTGTGTAGAAGAGAAATGATAGCTAGGATTAGAATGGAGAAGATTAGTGCTAGTACTCCTCCTAGTTTGTTAGGGATAAATCGTAGGATAGCGTAGGCAAATAGAAAGTACCACTCGGGTTTGATGTGGGGTGGGGTACTCAGTGGGTTTGCGGGGGTATAGTTGTCAGGGTCTCCTAGTAAGTCAGGCGAGAATAGGACTAGAGCTGCTAAAGCTAGAGTGAGAAGCAGGGCGCCTAGAATGTCCTTAATTGTATAGTATGGGTGAAATGGGATTTTGTCTGAGTCAGATGGGATTCCAGAGGGGTTGTTGGATCCTGTTTCGTGTAGAAACAATAGATGGACTGCTGCTAGTGCTAAGATGATGAACGGGAGGATAAAGTGGAAGGCAAAGAATCGTGTTAGAGTTGCCTTATCTACGGAAAAGCCTCCTCAGATTCATTCTACTAGGTCCGTTCCGATATAGGGAATGGCCGATAGTAGGTTGGTAATGACAGTTGCTCCTCAGAAGGACATTTGGCCTCAGGGTAGGACATATCCTATGAATGCGGTGGCTATGACTGTAAGTAGGAGAATAATGCCAATGTTTCATGTTTCTGAGAATAGGTATGAGCCATAGTATAGGCCCCGTCCTACGTGCATGAATAGACAGATAAAGAATATGGAGGCTCCGTTTGCATGTATATATCGGATAACTCAACCGTAGTGAACGTCTCGGCAAATATGGGTGATTGATGAAAAGGCTGTGGTTGTGTCTGATGTGTAGTGTATAGCTAGAAACAGGCCTGTTAGGATCTGTAGAATTAAGCATACTCCGAGGAGGGATCCAAAGTTTCATCATGCTGAGATGTTTGATGGTGTTGGGAGGTCAATAAATGAGTTGTTGATGATTTTAGCTAATGGATGGGTTTTTCGGATGTTGGTCAT\n",
      "TCTCCACTTTAAGAGGTTATTTTCAATAATTCCAGCGATAGGTATAAGTACTAGGAGGATTGTAAAGTAGAGAATGGAGGCTAGTTGTCCGATAATAATGAAGGGATGTTCTACTGGTTGTCCTCCAATTCATGTTAGTGTTAGTAGGTCTGCTACTAGAAGTCAAAATAGGCATTGGCTTAGGGGTCGGAATATCATTCCTCGTTGTTTGGACGTGTGTAGAAGAGGAATGATGGCTAGGATTAGAATGGAGAAAATTAGTGCTAGTACTCCTCCTAGTTTATTAGGGATAGATCGTAGGATAGCGTAGGCAAATAGAAAGTACCATTCGGGTTTGATGTGGGGTGGAGTGCTCAGTGGATTTGCGGGGGTATAGTTATCAGGGTCTCCTAGTAAGTCGGGCGAGAATAGGACTAGGGTTGCTAAGGTTAGGGCGAGAAGTAGGGCGCCTAGAATATCTTTAATTGTATAGTATGGATGGAAGGGGATTTTGTCTGAGTCAGATGGGATTCCAGAGGGGTTGTTAGATCCTGTTTCGTGTAGGAACAATAGATGGACTGCTGCTAGTGCTAGGATGATGAACGGGAGAATAAAGTGGAAAGCAAAGAATCGTGTTAGGGTCGCTTTATCTACGGAAAAGCCCCCTCAGATTCATTCTACCAGGTCCGTTCCGATGTAGGGAATGGCCGATAGTAGATTGGTGATGACAGTCGCTCCTCAGAAGGACATTTGGCCCCAGGGTAGGACGTATCCTATAAATGCGGTGGCTATAATTGTAAATAGGAGAATAATGCCAATGTTTCATGTTTCTGAGAATAGGTATGAGCCATAGTACAGGCCCCGTCCTACGTGCATAAATAGGCAGATAAAGAAGATGGAGGCTCCATTTGCATGTACATATCGGATAACTCATCCGTAGTGGACGTCTCGGCAAATGTGGGTGACCGATGAAAAAGCTGTGGTTGTGTCTGGTGTATAGTGTATGGCTAGGAACAGGCCTGTTAGAATCTGTAGAATTAAACATACTCCAAGGAGGGATCCAAAGTTTCATCATGCTGAGATGTTTGATGGTGTTGGAAGGTCAATAAGTGAGTTGTTGATGATTTTAGCTAATGGGTGGGTTTTTCGGATGTTGGTCAT\n",
      "TCTTCATTTTGAGAGGTTGTTTTCAATGATTCCAGCGATGGGCATGAGCACCAGGAGGATTGTGAAGTAGAGGATGGAGGCTAGCTGTCCGATAATGATGAAGGGATGTTCTACTGGTTGTCCTCCGATTCATGTTAGTGTTAGTAGGTCTGCTACTAGGAGTCAAAATAGGCATTGGCTTAGGGGTCGGAACATTATTCCTCGTTGTTTGGATGTGTGTAGAAGGGGGATAATGGCTAGGATTAGGATAGAGAAGATTAGCGCTAGTACTCCTCCTAGTTTGTTGGGGATGGATCGTAAGATGGCGTAAGCAAATAAAAAGTATCACTCAGGCTTGATGTGGGGCGGGGTGCTCAGTGGGTTTGCGGGGGTATAGTTGTCAGGGTCTCCCAGTAAGTCGGGCGAGAATAGAACTAGAGTTGCTAGGGCTAGAATGAGAAGTAGGGCGCCTAGGGCGTCCTTAATTGTATAGTATGGGTGGAATGGGATTTTGTCCGAGTCGGATGGGATTCCAGAGGGGTTGTTGGATCCTGTTTCGTGTAGGAACAATAGATGAACTGCTGCTAGTGCTAGGATGATAAATGGAAGGATAAAGTGGAAAGCAAAGAATCGTGTTAGGGTTGCTTTATCTACGGAAAAGCCCCCTCAGATTCACTCTACTAGGTCCGTTCCAATATAGGGAATGGCTGATAGGAGGTTGGTAATGACAGTCGCTCCTCAGAAAGATATTTGGCCTCAGGGTAGGACATATCCTATGAATGCGGTGGCTATAACTGTAAATAGGAGGATGATGCCAATGTTTCATGTTTCTGAGAGTAGGTATGAGCCATAATACAAGCCCCGTCCTACGTGTATGAATAGGCAGATGAAGAACATGGAGGCTCCGTTTGCATGTATGTATCGGATAATTCATCCGTAATGGACGTCTCGGCAAATATGGGCGACTGATGAAAAGGCTGTAGTCGCGTCTGATGTGTAGTGTATAGCTAGAAATAGGCCTGTCAGAATCTGTAGGATTAGGCATATTCCGAGGAGGGATCCAAAGTTTCATCATGCTGAGATATTTGATGGTGCTGGGAGATCAATGAGTGAGTTGTTGATGATTTTGGCTAATGGATGGGTTTTTCGGATGTTGGTCAT\n",
      "TCTTCACTTTGAGAGATTATTTTCAATGATTCCGGCGATGGGCATGAGTACTAGGAGGATTATGAAGTAGAGGATGGAGGCTAGTTGTCCAATAGTGATGAAGGGATATTCTACTGGTTGTCCTCCGATTCATGTAAGTGTTAGTAGGTCTGCTACTAGGAGTCAAAATAGGCATTGGCTTAGGGGCCGGAATATCATTCCTCGTTGTTTGGATGTGTGTAGAAGGGGAATGATAGCTAGGATTAGGATGGAGAAAATTAGTGCTAGTACCCCTCCTAGTTTATTGGGGATGGATCGTAGGATAGCGTAGGCAAATAGAAAGTACCACTCGGGTTTGATGTGGGGTGGGGTGCTCAGTGGGTTTGCAGGGGTGTAGTTGTCGGGGTCTCCTAGTAAGTCGGGTGAGAATAGGACTAGGGTTGCCAGGGCTAGGATGAGAAGTAAGGCGCCTATAATATCTTTAATTGTATAATATGGGTGAAATGGGATTTTGTCTGAGTTGGATGGGATTCCAGAGGGGTTGTTAGATCCTGTTTCATGTAGGAACAATAGGTGGACTATTACCAGTGCTAGGATGATAAATGGAAAGATAAAGTGGAAGGCAAAGAATCGTGTTAGAGTCGCCTTGTCTACGGAAAACCCCCCTCAGATTCATTCTACTAGGTCCGCTCCAATATAGGGAATGGCCGATAGCAGATTGGTGATGACAGTTGCTCCTCAGAAGGACATTTGGCCTCAGGGTAGGACGTATCCTATGAATGCGGTGGCTATGACTGTAAATAGGAGAATAATGCCGGTGTTTCATGTCTCCGAGAATAGGTATGAGCCATAGTACAGACCCCGTCCTACGTGCATGAATAGGCAGATAAAGAATATGGAGGCCCCGTTTGCATGTATATATCGGATGATTCATCCGTAGTGGACGTCTCGACAGATATGGGTGACTGATGAAAAGGCTGTGGTTGTGTCTGATGTATAGTGCATGGCTAGAAATAGGCCTGTTAGAATTTGTAGAATTAAGCACACTCCGAGGAGGGATCCGAAGTTTCATCATGCTGAGATGTTTGACGGTGCTGGGAGGTCAATGAGTGAGTTGTTAATGATTTTAGCTAATGGGTGGGTTTTTCGGATGTTGGTCAT\n",
      "TCTTCATTTTGAGAGGTTATTTTCAATGATCCCAGCGATAGGCATGAGCACTAGGAGGATTGTGAAGTAGAGGATAGAGGCCAACTGGCCGATAATGATAAAGGGGTGTTCTACTGGTTGCCCTCCGATTCATGTTAGTGTTAGTAGGTCTGCTACTAGAAGTCAGAATAGGCATTGGCTTAGGGGTCGGAACATTATTCCTCGTTGCTTGGATGTGTGTAGAAGGGGGATAATAGCTAGGATTAGGATAGAGAAAATTAGTGCTAGCACTCCTCCTAGTTTGTTGGGGATGGACCGTAGAATAGCGTAGGCAAATAGAAAATATCATTCAGGTTTGATGTGGGGTGGGGTGCTCAGTGGGTTTGCGGGGGTGTAGTTATCGGGATCTCCTAGTAGGTCAGGCGAGAATAGGACTAGAGTTGCTAGGGCTAGGATGAAAAGTAGGGCGCCTAGGGCGTCTTTAATTGTATAATATGGATGAAATGGGATTTTGTCTGAGTCAGATGGGATTCCAGAGGGGTTATTAGATCCTGTTTCGTGTAGGAATAATAGGTGGACTGCTGCTAGTGTCAAGATGATGAATGGAAGAATAAAGTGGAAGGCAAAGAATCGTGTCAGAGTTGCCTTATTCACAGAAAAGCCCCCTCAGATCCATTCTACTAGGTCTGTTCCAATATAGGGGATGGCTGATAGGAGGTTGGTGATAACAGTTGCTCCTCAGAAGGATATTTGGCCTCAGGGCAGGACATATCCTATGAATGCGGTGGCTATAACTGTAAATAGGAGGATAATGCCAATGTTTCATGTTTCTGAGAGTAGGTATGAGCCATAGTACAGACCCCGTCCTACGTGCATGAACAGACAGATAAAGAACATGGAAGCTCCGTTAGCATGTATGTATCGGATAATTCATCCGTAGTGAACATCTCGGCAAATATGGGTGATTGATGAAAAGGCTGTAGTTGTATCTGATGTGTAGTGTATGGCTAGAAATAGGCCCGTTAGAATTTGTAGTACTAAACATACTCCGAGGAGGGATCCGAAGTTTCATCATGCTGAGATATTTGATGGTGTTGGGAGATCAATAAGTGAGTTGTTGATGATTTTAGCTAATGGGTGGGTTTTTCGGATGTTGGTCAT\n",
      "TCTTCATTTTGAGAGGTTATTTTCAATAATTCCAGCGATGGGTATGAATACTAGGAAGATTATGAAATAGAGAATGGAGGCTAGTTGTCCGATAATGGTAAAGGGATGTTCTACTGGTTGTCCTCCAATTCATGTTAGTGTTAGTAGGTCTGCTACTAGGAGTCAAAATAGGCATTGGCTCAGAGGTCGGAATATCATTCCTCGTTGCTTGGATGTGTGTAAGAGGGGGATAATGGCTAGGATTAGGATAGAGAAGACTAGAGCTAGTACTCCTCCTAGTTTATTAGGGATGGATCGTAGGATAGCGTAGGCAAATAGAAAGTACCATTCGGGTTTGATGTGGGGTGGGGTGCTCAATGGATTTGCGGGGATGTAGTTGTCAGGGTCTCCTAGTAAGTCGGGCGAGAATAGAACTAGGGTTGTTAGGGCTAGGGTAAGAAGTAGGGCGCCTAGGATGTCCTTAATTGTATAGTACGGGTGAAATGGGATTTTGTCTGAGTCAGATGGGATTCCAGAGGGATTGTTGGACCCTGTTTCGTGTAGGAATAATAGGTGGACCGCTGTTAGTGCCAAGATGATGAACGGAAGGATAAAGTGGAAGGCAAAGAATCGTGTTAGAGTCGCCTTGTCTACGGAAAAGCCTCCTCAGACTCATTCTACTAGGTCCGTTCCAATATAGGGGATGGCTGATAAGAGATTGGTAATGACAGTTGCTCCTCAGAAGGACATTTGGCCTCAGGGTAGGACGTATCCTATAAATGCGGTGGCTATAACTGTAAATAGGAGGATAATACCGATGTTTCATGTTTCTGAGAATAGGTACGAGCCATAGTACAGACCCCGTCCTACGTGCATGAATAGGCAGATAAAGAACATGGAGGCTCCGTTTGCATGTATATATCGGATAATTCATCCGTAGTGAACGTCTCGGCAGATATGAGTGATTGATGAAAAGGCTGTGGTTGTGTCTGATGTATAGTGTATGGCTAGAAATAGGCCTGTCATAATCTGTAGGATTAAGCATACTCCGAGGAGGGATCCGAAGTTTCATCACGCCGAGATGTTTGATGGTGCTGGGAGGTCAATAAGTGAGTTGTTAATGATTTTAGCTAATGGGTGGGTTTTTCGGATGTTGGTCAT\n",
      "TCTTCATTTTGAGAGGCTATTCTCAATAATGCTAGTGATAGGTATAAGTACTAGAAGAATTGTAAAGTAGAGAATAGAGGCCAATTGCCCAATAATAATGAAGGGGTGTTCTACTGGCTGTCCTCCAATTCATGTTAGTGTGAGTAGGTCTGCTACTAGGAGTCAGAATAAGCATTGACTTAGAGGTCGGAATATCATGCTTCGTTGTTTGGATGTATGTAATAGTGGAATAATAGTTAGAATTAGAATAGAGAAGATTAGAGCTAGCACCCCTCCTAGTTTATTAGGAATGGATCGCAGGATAGCGTAGGCAAATAGAAAGTACCATTCAGGCTTAATATGTGGCGGGGTACTTAGTGGATTTGCAGGGGTATAGTTATCAGGGTCTCCTAACAGGTCTGGTGAGAATAAAGCCAGGGTTATTAAGGCGAGGACAAGAAATAGGACGCCTAGGATGTCTTTAATTGTATGATAGGGGTAAAATGGGATTTTGTCTGGGTCAGATGGAATTCCGGAGGGGTTATTAGATCCTGTTTCGTGAAGGAATAATAGATGGACTATTGCTAGTGCTGAGATGATAAATGGAAGGATAAAGTGGAAAGCAAAGAATCGTGTTAGGGTCGCCTTATCTACGGAAAAGCCCCCTCAGATTCATTCTACTAGGTTCGTTCCGATGTAGGGAATGGCCGATAGTAGGTTGGTGATGACAGTCGCTCCTCAGAAGGACATTTGGCCTCAGGGTAGGACGTATCCTATAAATGCGGTGGCTATAATTGTAAGTAGGAGAATAATTCCGATATTCCATGTCTCTGGAAATAGGTATGATCCATAGTATAAGCCTCGCCCTACGTGTATAAATAGGCAGATAAAAAATATAGAGGCCCCATTGGCATGTATATATCGGATAAATCACCCATAGTTGACGTCTCGACAAATGTGTGCGACTGATGAAAAGGCTGTAGCTGTATCTGATGTATAGTGTATGGCTAGAAATAAGCCTGTTAAGATTTGCAAGATCAGACACACTCCTAACAGGGACCCAAAGTTCCATCATGTTGAAATGTTTGATGGTGTTGGAAGGTCAATGAATGAGTTGTTGATAATTTTAACTAATGGATGAGTTTTTCGGATGTTGATCAT\n",
      "TCTTCACTTTGAGAGGTTATTTTCAATGATTCCGGCGATGGGTATAAGTACTAGGAGGATTGTGAAGTAGAGGATAGAGGCTAGCTGTCCGATGATAACAAGAGGATGTTCCACTGGTTGTCCTCCGATTCATGTTAGTGTTAGTAAGTCTGCTGCTAGAAGCCAGAAAAGGCATTGGCTTAAAGGTCGGAATATCATTCCTCGTTGTTTGGATGTGTGCAGCAGAGGAATGATAGCTAGGATTAGAATGGAGAAGATTAGGGCCAGTACTCCTCCCAATTTATTGGGAATAGATCGTAGAATGGCGTAGGCAAATAAGAAGTACCATTCAGGCTTGATATGTAGTGGGGTGCTCACTGGGTTTGCAGGGGTGTAGTTGTCGGGGTCTCCTAGTAAGTCGGGTGAGAATAGGACTAGGGTTACCAGGGCTAGGAGAAGAAGTAAGACGCCTAGAATATCTTTAATTGTATAGTAAGGGTGAAATGGGATTTTGTCTGAGTTCGATGAGATTCCAGAGGGATTGTTGGATCCTGTTTCGTGAAGAAATAATAGGTGGACTATGGCTAGTGCTAAAATAATGAATGGAAGGATAAAGTGAAAAGCGAAAAATCGGGTAAGGGTTGCTTTATCTACTGAGAATCCACCTCAGATTCATTCTACTAGGTCGGTTCCAATGTAGGGGATAGCTGATAGCAGATTGGTGATGACGGTTGCTCCTCAAAAGGATATTTGGCCTCAGGGCAGCACGTACCCCATGAATGCTGTGGCTATAATTGTGAGTAGGAGAATAATTCCAATGTTTCATGTTTCTGAGAATAGGTATGAGCCGTAATACAGACCCCGTCCCACGTGTATGAACAAGCAGATAAAGAATATTGAAGCTCCGTTCGCGTGTATGTATCGGATAACTCATCCGTAGTTAACGTCTCGACAGATATGGGCGACTGATGAGAAGGCTGTAGTCGTGTCTGCTGTATAGTGTATGGCCAGGAATAGGCCCGTTAGGATGTGTAGGATCAGGCACACCCCAAGAAGGGACCCGAAGTTTCATCACGCTGAGATATTTGATGGTGTTGGGAGGTCAATGAATGAGCTGTTGATGATTTTAGCTAGTGGGTGAGTTTTTCGGATGTTGGTCAT\n",
      "TCTCCACTTTAAGAGGTTGTTTTCAATAATTCCAGCGATGGGTATGAGTACTAGGAGGATTGTAAAGTAGAGAATGGAGGCTAGTTGTCCGATAATAATGAAGGGGTGTTCTACTGGTTGTCCTCCAATTCATGTTAGTGTTAGTAGGTCTGCTACTAGAAGTCAAAATAGGCATTGGCTTAGGGGCCGGAATATCATTCCTCGTTGTTTGGACGTGTGTAGAAGAGGAATGAGGGCTAGGATTAGAATGGAGAAAATTAGTGCTAGTACTCCTCCTAGTTTATTAGGGATGGATCGTAGGATAGCGTAGGCAAATAGAAAGTACCACTCGGGTTTGATGTGGGGTGGGGTGCTTAGTGGATTTGCGGGGATATAGTTATCAGGGTCTCCTAGTAAGTCGGGCGAGAATAGGACTAGGGTTGCTAGGGCTAGGGTGAGAAGTAGGGCGCCTAGAATATCCTTAATTGTATAGTATGGATGGAATGGGATTTTGTCTGAGTCAGATGGGATTCCAGAGGGGTTGTTGGATCCTGTTTCGTGTAGGAACAATAGGTGGACTGCTGCTAGTGCTAGGATGATGAACGGGAGAATAAAGTGGAAAGCAAAGAATCGTGTTAGAGTCGCCTTATCTACGGAAAAGCCCCCTCAGATTCATTCTACCAGGTCCGTTCCGATATAGGGAATGGCCGATAGTAGATTGGTGATGACAGTCGCTCCTCAGAAGGACATTTGGCCTCAGGGTAGGACGTATCCTATAAATGCGGTGGCTATAACTGTAAATAGGAGAATAATGCCAATGTTTCATGTTTCTGAGAATAGGTATGAGCCATAGTACAGGCCCCGTCCTACGTGCATGAATAGGCAGATAAAGAACATGGAGGCTCCATTTGCATGTACATATCGGATAACTCACCCGTAGTGAACGTCTCGGCAAATGTGGGTGACTGATGAAAAAGCTGTGGTTGTGTCTGATGTATAGTGTATGGCTAGAAACAGGCCTGTTAGAATCTGTAGAATTAAACACACTCCAAGGAGGGATCCAAAGTTTCATCATGCTGAGATGTTTGATGGTGTTGGAAGATCAATAAATGAGTTGTTGATGATTTTAGCTAATGGGTGGGTTTTTCGGATGTTGGTCAT\n"
     ]
    }
   ],
   "source": [
    "# 11. Optional functions\n",
    "\n",
    "# Biopython GC content function - based on Dr. Friedburg's lecture \"biopython_lecture-2018-11-07.pdf\" on Slack\n",
    "\n",
    "from  Bio.SeqUtils  import  GC                                         # import necessary utilities\n",
    "def better_GC(string_aa):                                              # define function. Argument is an aa string\n",
    "    return(GC(string_aa))                                              # use GC method\n",
    "\n",
    "for key, value in (get_seq(\"bears_cytb.fasta\")).items():               # call get_seq to create dictionary with species name (key) and cytC sequence (value)\n",
    "    print(better_GC(value))                                            # call function with value (sequence) as argument\n",
    "    \n",
    "# Reverse complement function - based on Dr. Friedburg's lecture \"biopython_lecture-2018-11-07.pdf\" on Slack\n",
    "\n",
    "def rev_comp(string_aa):                                               # define function. Argument is an aa string\n",
    "    return(string_aa.reverse_complement())                             # use reverse complement method\n",
    "\n",
    "for key, value in (get_seq(\"bears_cytb.fasta\")).items():               # call get_seq to create dictionary with species name (key) and cytC sequence (value)\n",
    "    print(rev_comp(value))                                             # call function with value (sequence) as argument"
   ]
  },
  {
   "cell_type": "code",
   "execution_count": null,
   "metadata": {},
   "outputs": [],
   "source": []
  }
 ],
 "metadata": {
  "kernelspec": {
   "display_name": "Python 3",
   "language": "python",
   "name": "python3"
  },
  "language_info": {
   "codemirror_mode": {
    "name": "ipython",
    "version": 3
   },
   "file_extension": ".py",
   "mimetype": "text/x-python",
   "name": "python",
   "nbconvert_exporter": "python",
   "pygments_lexer": "ipython3",
   "version": "3.7.0"
  }
 },
 "nbformat": 4,
 "nbformat_minor": 2
}
