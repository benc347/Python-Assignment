{
 "cells": [
  {
   "cell_type": "code",
   "execution_count": 1,
   "metadata": {},
   "outputs": [],
   "source": [
    "# Install necessary packages\n",
    "\n",
    "from Bio import SeqIO\n",
    "from Bio.Data import CodonTable\n",
    "import pandas as pd"
   ]
  },
  {
   "cell_type": "code",
   "execution_count": 6,
   "metadata": {},
   "outputs": [
    {
     "ename": "SyntaxError",
     "evalue": "invalid syntax (<ipython-input-6-a1d0be515d3e>, line 9)",
     "output_type": "error",
     "traceback": [
      "\u001b[1;36m  File \u001b[1;32m\"<ipython-input-6-a1d0be515d3e>\"\u001b[1;36m, line \u001b[1;32m9\u001b[0m\n\u001b[1;33m    description = record.description.split(,)               # split the description metadata line\u001b[0m\n\u001b[1;37m                                           ^\u001b[0m\n\u001b[1;31mSyntaxError\u001b[0m\u001b[1;31m:\u001b[0m invalid syntax\n"
     ]
    }
   ],
   "source": [
    "# Dr. X's file calling function\n",
    "# I changed the name of the function from \"get_sequences_from_file' to \"get_seq\" because the original name was long\n",
    "\n",
    "def get_seq(fasta_fn):                                         # def defines the following as a function. Function given name. fasta_fn is the single argument of the function\n",
    "    sequence_data_dict = {}                                    # creates an empty dictionary\n",
    "    for record in SeqIO.parse(fasta_fn, \"fasta\"):              # SeqIO reads SeqRecords. \"fasta\" tells it that the file in question is in FASTA format\n",
    "                                                               # SeqIO.parse separates the multiple FASTA records in one file\n",
    "                                                               # for loop loops through every record from the FASTA argument file parsed out and separated by SeqIO\n",
    "        description = record.description.split()               # split the description metadata line that starts the FASTA record into a list of strings\n",
    "        species_name = description[1] + \" \" + description[2]   # variable \"species_name\" is set to the 1st and 2nd items in \"description\" for the current record\n",
    "        sequence_data_dict[species_name] = record.seq          # add the species name and the sequence of the current record to the dictionary\n",
    "    return(sequence_data_dict)                                 # output the contents of the dictionary\n",
    " \n",
    "get_seq(\"bears_cytb.fasta\")                                    # call get_seq function with the bear cytochrome C fasta file as argument, importing sequence data"
   ]
  },
  {
   "cell_type": "code",
   "execution_count": null,
   "metadata": {},
   "outputs": [],
   "source": []
  }
 ],
 "metadata": {
  "kernelspec": {
   "display_name": "Python 3",
   "language": "python",
   "name": "python3"
  },
  "language_info": {
   "codemirror_mode": {
    "name": "ipython",
    "version": 3
   },
   "file_extension": ".py",
   "mimetype": "text/x-python",
   "name": "python",
   "nbconvert_exporter": "python",
   "pygments_lexer": "ipython3",
   "version": "3.7.0"
  }
 },
 "nbformat": 4,
 "nbformat_minor": 2
}
