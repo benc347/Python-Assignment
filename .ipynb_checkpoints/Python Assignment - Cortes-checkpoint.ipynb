{
 "cells": [
  {
   "cell_type": "code",
   "execution_count": 1,
   "metadata": {},
   "outputs": [],
   "source": [
    "# Install necessary packages\n",
    "\n",
    "from Bio import SeqIO\n",
    "from Bio.Data import CodonTable\n",
    "import pandas as pd"
   ]
  },
  {
   "cell_type": "code",
   "execution_count": 2,
   "metadata": {},
   "outputs": [],
   "source": [
    "# 1.\n",
    "# Dr. X's file calling function\n",
    "# I changed the name of the function from \"get_sequences_from_file' to \"get_seq\" because the original name was long\n",
    "# I also changed the name of the dictionary from \"sequence_data_dict\" to \"seqdat_dict\"\n",
    "\n",
    "def get_seq(fasta_fn):                                         # def defines the following as a function. Function given name. fasta_fn is the single argument of the function\n",
    "    seqdat_dict = {}                                           # creates an empty dictionary\n",
    "    for record in SeqIO.parse(fasta_fn, \"fasta\"):              # SeqIO reads SeqRecords. \"fasta\" tells it that the file in question is in FASTA format\n",
    "                                                                   # SeqIO.parse separates the multiple FASTA records in one file\n",
    "                                                                   # for loop loops through every record from the FASTA argument file parsed out and separated by SeqIO\n",
    "        description = record.description.split()               # split the description metadata line that starts the FASTA record into a list of strings\n",
    "        species_name = description[1] + \" \" + description[2]   # variable \"species_name\" is set to the 1st and 2nd items in \"description\" for the current record\n",
    "        seqdat_dict[species_name] = record.seq                 # add the species name as the key and add the sequence of the current record to the dictionary\n",
    "    return(seqdat_dict)                                        # output the contents of the dictionary\n",
    " \n",
    "#get_seq(\"bears_cytb.fasta\")                                    # call get_seq function with the bear cytochrome C fasta file as argument, importing sequence data"
   ]
  },
  {
   "cell_type": "code",
   "execution_count": 3,
   "metadata": {
    "scrolled": true
   },
   "outputs": [],
   "source": [
    "# 2. \n",
    "# Translation function utilizing codon table from FASTA file with multiple records\n",
    "# Following outlines of pseudocode in sequence_translate.py\n",
    "\n",
    "def translate_function(string_nucleotides):                                         # initiate and name function. Argument is a string of nucleotides                 \n",
    "    mito_table = CodonTable.unambiguous_dna_by_name[\"Vertebrate Mitochondrial\"]     # sets mito_table as the vertebrate mitochondrial codon table (a table showing which codons code for which amino acids)\n",
    "                                                                                         # mitochondrial table used since cytochrome C is a mitochondrially produced protein - http://biopython.org/DIST/docs/tutorial/Tutorial.html\n",
    "    aa_seq_string = []                                                              # create empty list   \n",
    "    i = 3                                                                           # initialize i at 3\n",
    "    for position in string_nucleotides:                                             # for loop through all bases in the sequence\n",
    "        codon = str(string_nucleotides[(i-3):i:])                                   # set codon as the three bases. Specifically, the three bases between i and (i-3) are passed to codon\n",
    "        if codon in {\"AGA\", \"AGG\", \"TAA\", \"TAG\"}:                                   # if codon is a mitochondrial stop codon - http://biopython.org/DIST/docs/tutorial/Tutorial.html, https://stackoverflow.com/questions/15112125/how-to-test-multiple-variables-against-a-value\n",
    "            break                                                                        # break, leave for loop and don't translate stop codon - https://www.digitalocean.com/community/tutorials/how-to-use-break-continue-and-pass-statements-when-working-with-loops-in-python-3\n",
    "        aa_seq_string += mito_table.forward_table[codon]                            # retrieve amino acid corresponding to the three bases in codon\n",
    "        i += 3                                                                      # increment i by 3, moving to next codon in sequence\n",
    "    aa_seq_string = ''.join(aa_seq_string)                                          # concatenate list of strings into string - https://stackoverflow.com/questions/12453580/concatenate-item-in-list-to-strings\n",
    "    return(aa_seq_string)\n",
    "\n",
    "#for key, value in (get_seq(\"bears_cytb.fasta\")).items():                            # call get_seq to create dictionary with species name (key) and cytC sequence (value)\n",
    "#    print(translate_function(value))                                                # call translate_function with the cytC sequence (value) as the argument and print"
   ]
  },
  {
   "cell_type": "code",
   "execution_count": 4,
   "metadata": {},
   "outputs": [],
   "source": [
    "# 3.\n",
    "# Translate using built-in Biopython capabilities - based on Dr. Friedburg's lecture \"biopython_lecture-2018-11-07.pdf\" on Slack\n",
    "\n",
    "from Bio.Seq import Seq                                                             # import Seq object\n",
    "from Bio.Alphabet import IUPAC                                                      # import IUPAC alphabets for Seq objects\n",
    "\n",
    "def better_translate(seqobj_DNA):                                                   # define function - argument is a DNA string\n",
    "    return(seqobj_DNA.translate(table = 2, to_stop = True))                         # use translate method to translate argument. Table 2 is the mitochondrial translation table. \n",
    "                                                                                        # setting \"to_stop\" equal to \"True\" causes stop codons to be ignored\n",
    "#for key, value in (get_seq(\"bears_cytb.fasta\")).items():                            # call get_seq to create dictionary with species name (key) and cytC sequence (value)\n",
    "#    print(better_translate(value))"
   ]
  },
  {
   "cell_type": "code",
   "execution_count": 15,
   "metadata": {},
   "outputs": [
    {
     "name": "stdout",
     "output_type": "stream",
     "text": [
      "42458.79919999999\n",
      "42414.743499999975\n",
      "42306.67349999998\n",
      "42551.98999999998\n",
      "42427.74389999999\n",
      "42560.89100000001\n",
      "42702.184499999996\n",
      "42384.82659999999\n",
      "42454.78729999998\n"
     ]
    }
   ],
   "source": [
    "# 4.\n",
    "# Molecular Weight function\n",
    "\n",
    "from Bio.SeqUtils.ProtParam import ProteinAnalysis                  # import necessary library\n",
    "\n",
    "def mol_wt(string_aa):                                              # define function. Argument is an aa string\n",
    "    seqobj_prot = ProteinAnalysis(string_aa)                        # ProteinAnalysis transforms the aa string into a protein Seq object\n",
    "    return(seqobj_prot.molecular_weight())                          # the molecular_weight method calculates the molecular weight of the input protein Seq object\n",
    "\n",
    "#for key, value in (get_seq(\"bears_cytb.fasta\")).items():            # call get_seq to create dictionary with species name (key) and cytC sequence (value)\n",
    "#    cytc_aa = str(better_translate(value))                          # turn output of get_seq into a string\n",
    "#    print(mol_wt(cytc_aa))                                          "
   ]
  },
  {
   "cell_type": "code",
   "execution_count": null,
   "metadata": {},
   "outputs": [],
   "source": []
  }
 ],
 "metadata": {
  "kernelspec": {
   "display_name": "Python 3",
   "language": "python",
   "name": "python3"
  },
  "language_info": {
   "codemirror_mode": {
    "name": "ipython",
    "version": 3
   },
   "file_extension": ".py",
   "mimetype": "text/x-python",
   "name": "python",
   "nbconvert_exporter": "python",
   "pygments_lexer": "ipython3",
   "version": "3.7.0"
  }
 },
 "nbformat": 4,
 "nbformat_minor": 2
}
